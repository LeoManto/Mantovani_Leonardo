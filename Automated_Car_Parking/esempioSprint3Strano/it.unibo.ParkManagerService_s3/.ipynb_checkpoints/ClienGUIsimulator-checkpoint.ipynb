{
 "cells": [
  {
   "cell_type": "code",
   "execution_count": 12,
   "id": "e3634865",
   "metadata": {},
   "outputs": [
    {
     "name": "stdout",
     "output_type": "stream",
     "text": [
      "CONNECTED  ('localhost', 8052)\n",
      "1\n",
      "INPUT 1\n",
      "forward  msg(reqenter,    request, client, parkingmanagerservice, reqenter(client),1)\n"
     ]
    },
    {
     "ename": "NameError",
     "evalue": "name 'sleep' is not defined",
     "output_type": "error",
     "traceback": [
      "\u001b[1;31m---------------------------------------------------------------------------\u001b[0m",
      "\u001b[1;31mNameError\u001b[0m                                 Traceback (most recent call last)",
      "\u001b[1;32m<ipython-input-12-510f6c79723c>\u001b[0m in \u001b[0;36m<module>\u001b[1;34m\u001b[0m\n\u001b[0;32m     75\u001b[0m \u001b[1;31m###########################################\u001b[0m\u001b[1;33m\u001b[0m\u001b[1;33m\u001b[0m\u001b[1;33m\u001b[0m\u001b[0m\n\u001b[0;32m     76\u001b[0m \u001b[0mconnect\u001b[0m\u001b[1;33m(\u001b[0m\u001b[0mport\u001b[0m\u001b[1;33m)\u001b[0m\u001b[1;33m\u001b[0m\u001b[1;33m\u001b[0m\u001b[0m\n\u001b[1;32m---> 77\u001b[1;33m \u001b[0mconsole\u001b[0m\u001b[1;33m(\u001b[0m\u001b[1;33m)\u001b[0m\u001b[1;33m\u001b[0m\u001b[1;33m\u001b[0m\u001b[0m\n\u001b[0m\u001b[0;32m     78\u001b[0m \u001b[0mhandleAnswer\u001b[0m\u001b[1;33m(\u001b[0m\u001b[1;33m)\u001b[0m\u001b[1;33m\u001b[0m\u001b[1;33m\u001b[0m\u001b[0m\n\u001b[0;32m     79\u001b[0m \u001b[1;33m\u001b[0m\u001b[0m\n",
      "\u001b[1;32m<ipython-input-12-510f6c79723c>\u001b[0m in \u001b[0;36mconsole\u001b[1;34m()\u001b[0m\n\u001b[0;32m     69\u001b[0m         \u001b[1;32mif\u001b[0m \u001b[0mv\u001b[0m\u001b[1;33m==\u001b[0m\u001b[1;34m\"4\"\u001b[0m\u001b[1;33m:\u001b[0m \u001b[0memit\u001b[0m\u001b[1;33m(\u001b[0m\u001b[0mcarwithdrawn\u001b[0m\u001b[1;33m)\u001b[0m\u001b[1;33m\u001b[0m\u001b[1;33m\u001b[0m\u001b[0m\n\u001b[0;32m     70\u001b[0m \u001b[1;33m\u001b[0m\u001b[0m\n\u001b[1;32m---> 71\u001b[1;33m         \u001b[0msleep\u001b[0m\u001b[1;33m(\u001b[0m\u001b[1;36m500\u001b[0m\u001b[1;33m)\u001b[0m\u001b[1;33m\u001b[0m\u001b[1;33m\u001b[0m\u001b[0m\n\u001b[0m\u001b[0;32m     72\u001b[0m \u001b[1;33m\u001b[0m\u001b[0m\n\u001b[0;32m     73\u001b[0m         \u001b[0mv\u001b[0m \u001b[1;33m=\u001b[0m \u001b[0mstr\u001b[0m\u001b[1;33m(\u001b[0m\u001b[0minput\u001b[0m\u001b[1;33m(\u001b[0m\u001b[1;33m)\u001b[0m\u001b[1;33m)\u001b[0m\u001b[1;33m\u001b[0m\u001b[1;33m\u001b[0m\u001b[0m\n",
      "\u001b[1;31mNameError\u001b[0m: name 'sleep' is not defined"
     ]
    }
   ],
   "source": [
    "## sonarResourceCallerTCP\n",
    "## simulates sonar data emitted using TCP on port 8028\n",
    "## the perceiver is the qak sonarresource (project it.unibo.sonarAsResource)\n",
    "import socket\n",
    "import time\n",
    "\n",
    "port = 8052\n",
    "sock = socket.socket(socket.AF_INET, socket.SOCK_STREAM)\n",
    "\n",
    "reqenter     = \"msg(reqenter,    request, client, parkingmanagerservice, reqenter(client),1)\"\n",
    "movetoin     = \"msg(carenter,    request, client, parkingmanagerservice, movetoin(ok),2)\"\n",
    "pickup       = \"msg(pickup,      dispatch,client, parkingmanagerservice, pickup(VALUE),3)\"\n",
    "carwithdrawn = \"msg(carwithdrawn,event,   client, none,                  cw(ok),4)\"\n",
    "### alarm = \"msg(alarm,event,python,none,alarm(fire),3)\"\n",
    "\n",
    "def connect(port) :\n",
    "    server_address = ('localhost', port)      ##localhost\n",
    "    sock.connect(server_address)    \n",
    "    print(\"CONNECTED \" , server_address)\n",
    "\n",
    "def emit( event ) :\n",
    "    print(\"emit \", event)\n",
    "    msg = event + \"\\n\"\n",
    "    byt=msg.encode()    #required in Python3\n",
    "    sock.send(byt)\n",
    "    \n",
    "def forward( message ) :\n",
    "    print(\"forward \", message)\n",
    "    msg = message + \"\\n\"\n",
    "    byt=msg.encode()    #required in Python3\n",
    "    sock.send(byt)\n",
    "\n",
    "def request( message ) :\n",
    "    print(\"request \", message)\n",
    "    msg = message + \"\\n\"\n",
    "    byt=msg.encode()    #required in Python3\n",
    "    sock.send(byt)\n",
    "    handleAnswer()\n",
    "\n",
    "def handleAnswer() :\n",
    "    print(\"handleAnswer \" )\n",
    "    while True:  ##client wants to maintain the connection\n",
    "        reply = ''\n",
    "        while True:\n",
    "            answer = sock.recv(50)\n",
    "            ## print(\"answer len=\", len(answer))\n",
    "            if len(answer) <= 0 :\n",
    "                break\n",
    "            reply += answer.decode(\"utf-8\")\n",
    "            ## print(\"reply=\", reply)\n",
    "            if reply.endswith(\"\\n\") :\n",
    "                break\n",
    "        print(\"final reply=\", reply)\n",
    "        break\n",
    "\n",
    "def terminate() :\n",
    "    sock.close()\n",
    "    print(\"BYE\")\n",
    "    \n",
    "def console() :  \n",
    "    v =  str( input() )\n",
    "    print(\"INPUT\" , v  )    \n",
    "    while( v != \"q\"  ) :\n",
    "        if v==\"1\": forward(reqenter)\n",
    "        if v==\"2\": forward(movetoin)\n",
    "        if v==\"3\": \n",
    "            c = str( input() )\n",
    "            forward(pickup.replace(\"VALUE\",c))\n",
    "        if v==\"4\": emit(carwithdrawn)\n",
    "        \n",
    "        time.sleep(500)\n",
    "        \n",
    "        v = str(input())   \n",
    "        \n",
    "###########################################    \n",
    "connect(port)\n",
    "console()\n",
    "handleAnswer()\n",
    "\n",
    "##terminate()  \n"
   ]
  },
  {
   "cell_type": "code",
   "execution_count": null,
   "id": "24654388",
   "metadata": {},
   "outputs": [],
   "source": [
    "\n"
   ]
  }
 ],
 "metadata": {
  "kernelspec": {
   "display_name": "Python 3",
   "language": "python",
   "name": "python3"
  },
  "language_info": {
   "codemirror_mode": {
    "name": "ipython",
    "version": 3
   },
   "file_extension": ".py",
   "mimetype": "text/x-python",
   "name": "python",
   "nbconvert_exporter": "python",
   "pygments_lexer": "ipython3",
   "version": "3.8.6"
  }
 },
 "nbformat": 4,
 "nbformat_minor": 5
}
